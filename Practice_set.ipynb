{
  "nbformat": 4,
  "nbformat_minor": 0,
  "metadata": {
    "colab": {
      "provenance": [],
      "authorship_tag": "ABX9TyPTpMdrelmOUVBUIyUCUXBX",
      "include_colab_link": true
    },
    "kernelspec": {
      "name": "python3",
      "display_name": "Python 3"
    },
    "language_info": {
      "name": "python"
    }
  },
  "cells": [
    {
      "cell_type": "markdown",
      "metadata": {
        "id": "view-in-github",
        "colab_type": "text"
      },
      "source": [
        "<a href=\"https://colab.research.google.com/github/lalit1511/Maths-Stats-using-python/blob/main/Practice_set.ipynb\" target=\"_parent\"><img src=\"https://colab.research.google.com/assets/colab-badge.svg\" alt=\"Open In Colab\"/></a>"
      ]
    },
    {
      "cell_type": "markdown",
      "source": [
        "**If statement practice**\n",
        "\n",
        "\n",
        "\n"
      ],
      "metadata": {
        "id": "aiTcATBmv8Gk"
      }
    },
    {
      "cell_type": "code",
      "source": [
        "num=float(input(\"Enter number \"))\n",
        "\n",
        "if num>0:\n",
        "  print(\"Number is positive\")\n",
        "elif num==0:\n",
        "  print(\"Number is zero\")\n",
        "else:\n",
        "  print(\"number is negative\")"
      ],
      "metadata": {
        "colab": {
          "base_uri": "https://localhost:8080/"
        },
        "id": "GqMwXpCkwJuq",
        "outputId": "20fabdfd-c432-4480-cc60-67874111b3bc"
      },
      "execution_count": 4,
      "outputs": [
        {
          "output_type": "stream",
          "name": "stdout",
          "text": [
            "Enter number 55\n",
            "Number is positive\n"
          ]
        }
      ]
    },
    {
      "cell_type": "code",
      "source": [
        "num=int(input(\"Enter number \"))\n",
        "if num%2==0:\n",
        "  print(\"Number is even\")\n",
        "else:\n",
        "  print(\"Number is odd\")"
      ],
      "metadata": {
        "colab": {
          "base_uri": "https://localhost:8080/"
        },
        "id": "Jn79belZxdVS",
        "outputId": "5e93a721-a3f1-446b-8582-ed5c15f8a327"
      },
      "execution_count": 1,
      "outputs": [
        {
          "output_type": "stream",
          "name": "stdout",
          "text": [
            "Enter number 6\n",
            "Number is even\n"
          ]
        }
      ]
    },
    {
      "cell_type": "code",
      "source": [
        "year=int(input(\"Enter a year\"))\n",
        "if year % 4==0 and (year % 100!=0 or year % 400==0 ):\n",
        "  print(\"Year is yeap year\")\n",
        "else:\n",
        "  print(\"this is not a leap year\")"
      ],
      "metadata": {
        "colab": {
          "base_uri": "https://localhost:8080/"
        },
        "id": "EZKq1tWkzV4F",
        "outputId": "b4822ee5-40fa-49bb-af85-ea3fc619fdc4"
      },
      "execution_count": 7,
      "outputs": [
        {
          "output_type": "stream",
          "name": "stdout",
          "text": [
            "Enter a year2023\n",
            "this is not a leap year\n"
          ]
        }
      ]
    },
    {
      "cell_type": "code",
      "source": [
        "#Checking if a character is a vowel or consonant:\n",
        "char=input(\"Enter a charcter \")\n",
        "if char.lower() in \"aeiou\":\n",
        "  print(\"It is vowel\")\n",
        "\n",
        "else:\n",
        "  print(\"it is consonant\")"
      ],
      "metadata": {
        "colab": {
          "base_uri": "https://localhost:8080/"
        },
        "id": "iRcE6BRHEhe5",
        "outputId": "b92a719d-561f-46d9-c980-65630521a457"
      },
      "execution_count": 10,
      "outputs": [
        {
          "output_type": "stream",
          "name": "stdout",
          "text": [
            "Enter a charcter i\n",
            "It is vowel\n"
          ]
        }
      ]
    },
    {
      "cell_type": "code",
      "source": [
        "#Checking if a string is empty or not:\n",
        "string=input(\"Enter string \")\n",
        "if string:\n",
        "  print(\"string is not empty\")\n",
        "\n",
        "else:\n",
        "  print(\"string is empty\")"
      ],
      "metadata": {
        "colab": {
          "base_uri": "https://localhost:8080/"
        },
        "id": "VcrMOXm7Fm-u",
        "outputId": "457a350d-490e-4ed4-c3ab-b17aefd48cd6"
      },
      "execution_count": 14,
      "outputs": [
        {
          "output_type": "stream",
          "name": "stdout",
          "text": [
            "Enter string \n",
            "string is empty\n"
          ]
        }
      ]
    },
    {
      "cell_type": "code",
      "source": [
        "#Checking if a number is within a specific range:\n",
        "num=int(input(\"Enter a number\"))\n",
        "if 10<= num <=20:\n",
        "  print(\"Number is within range\")\n",
        "else:\n",
        "  print(\"number is not in range\")"
      ],
      "metadata": {
        "colab": {
          "base_uri": "https://localhost:8080/"
        },
        "id": "X17nyNfiGP39",
        "outputId": "794720a1-b50c-4ef2-8c27-c033831bb579"
      },
      "execution_count": 15,
      "outputs": [
        {
          "output_type": "stream",
          "name": "stdout",
          "text": [
            "Enter a number66\n",
            "number is not in range\n"
          ]
        }
      ]
    },
    {
      "cell_type": "code",
      "source": [
        "#Checking if a list is empty or not:\n",
        "my_list=[1,2,3]\n",
        "if my_list :\n",
        "  print(\"List is not empty\")\n",
        "\n",
        "else:\n",
        "  print(\"list is empty\")"
      ],
      "metadata": {
        "colab": {
          "base_uri": "https://localhost:8080/"
        },
        "id": "A569IKDZG3ZY",
        "outputId": "4980d087-5e0a-43af-b86f-f2f7193ee911"
      },
      "execution_count": 16,
      "outputs": [
        {
          "output_type": "stream",
          "name": "stdout",
          "text": [
            "List is not empty\n"
          ]
        }
      ]
    },
    {
      "cell_type": "code",
      "source": [
        "#Checking if a number is a multiple of another number:\n",
        "num1=int(input(\"Enter 1st number \"))\n",
        "num2=int(input(\"Enter 2nd number \"))\n",
        "if num1 % num2==0:\n",
        "  print(\"first number is multiple of second\")\n",
        "\n",
        "else:\n",
        "  print(\"first number is not a multiple of second\")"
      ],
      "metadata": {
        "colab": {
          "base_uri": "https://localhost:8080/"
        },
        "id": "fSGIfbacHc4x",
        "outputId": "1df42b8c-7e1e-4fa4-85de-2d10cc8150ae"
      },
      "execution_count": 2,
      "outputs": [
        {
          "output_type": "stream",
          "name": "stdout",
          "text": [
            "Enter 1st number 20\n",
            "Enter 2nd number 10\n",
            "first number is multiple of second\n"
          ]
        }
      ]
    },
    {
      "cell_type": "code",
      "source": [
        "#Checking if a number is prime or not:\n"
      ],
      "metadata": {
        "id": "i925JWi32_hX"
      },
      "execution_count": null,
      "outputs": []
    },
    {
      "cell_type": "code",
      "source": [
        "#Checking if a number is a Fibonacci number:\n",
        "num = int(input(\"Enter a number: \"))\n",
        "a, b = 0, 1\n",
        "while b < num:\n",
        "    a, b = b, a + b\n",
        "\n",
        "if b == num:\n",
        "    print(\"Fibonacci number\")\n",
        "else:\n",
        "    print(\"Not a Fibonacci number\")\n"
      ],
      "metadata": {
        "colab": {
          "base_uri": "https://localhost:8080/"
        },
        "id": "R6pWjYqu3YPd",
        "outputId": "254c5ed7-d3b1-48a6-f8ee-c8853077ebae"
      },
      "execution_count": 4,
      "outputs": [
        {
          "output_type": "stream",
          "name": "stdout",
          "text": [
            "Enter a number: 9\n",
            "Not a Fibonacci number\n"
          ]
        }
      ]
    },
    {
      "cell_type": "code",
      "source": [
        "#Checking if a number is a perfect square:\n",
        "numb=int(input(\"Enter a number\"))\n",
        "if numb>0 and numb**0.5==int(numb**0.5):\n",
        "  print(\"Number is perfect square\")\n",
        "\n",
        "else:\n",
        "  print(\"Number is not a perfect square\")"
      ],
      "metadata": {
        "colab": {
          "base_uri": "https://localhost:8080/"
        },
        "id": "gGTAOWYW3z-H",
        "outputId": "6dfc0ecd-cda8-400d-d33c-81a8d459d8f7"
      },
      "execution_count": 6,
      "outputs": [
        {
          "output_type": "stream",
          "name": "stdout",
          "text": [
            "Enter a number55\n",
            "Number is not a perfect square\n"
          ]
        }
      ]
    },
    {
      "cell_type": "code",
      "source": [
        "#Checking if a string is a palindrome:\n",
        "string=input(\"Enter a string \")\n",
        "if string==string[::-1]:\n",
        "  print(\"String is palindrome\")\n",
        "\n",
        "else:\n",
        "  print(\"String is not a palindrome\")"
      ],
      "metadata": {
        "colab": {
          "base_uri": "https://localhost:8080/"
        },
        "id": "UPqRw15x5zoG",
        "outputId": "dc554be3-b55e-40d3-e2f0-ee50a86ee0d8"
      },
      "execution_count": 8,
      "outputs": [
        {
          "output_type": "stream",
          "name": "stdout",
          "text": [
            "Enter a string lal\n",
            "String is palindrome\n"
          ]
        }
      ]
    },
    {
      "cell_type": "code",
      "source": [
        "#Checking if a triangle is equilateral, isosceles, or scalene:\n",
        "side1=float(input(\"Enter side 1 \"))\n",
        "side2=float(input(\"Enter side 2 \"))\n",
        "side3=float(input(\"Enter side 3 \"))\n",
        "if side1==side2 or side1==side3 or side2==side3:\n",
        "  print(\"It is isosceles triangle\")\n",
        "elif side1==side2==side3:\n",
        "  print(\"It is equileteral triangle\")\n",
        "\n",
        "else:\n",
        "  print(\"It is scalene triangle\")"
      ],
      "metadata": {
        "colab": {
          "base_uri": "https://localhost:8080/"
        },
        "id": "ZcUYYYQV6YHI",
        "outputId": "270bb78d-6707-4e0c-d41c-958ebc2dbec1"
      },
      "execution_count": 12,
      "outputs": [
        {
          "output_type": "stream",
          "name": "stdout",
          "text": [
            "Enter side 1 6\n",
            "Enter side 2 6\n",
            "Enter side 3 6\n",
            "It is isosceles triangle\n"
          ]
        }
      ]
    },
    {
      "cell_type": "code",
      "source": [
        "#Checking if a string contains a specific substring:\n",
        "string = input(\"Enter a string: \")\n",
        "substring = input(\"Enter a substring: \")\n",
        "\n",
        "if substring in string:\n",
        "    print(\"Substring found in the string\")\n",
        "else:\n",
        "    print(\"Substring not found in the string\")"
      ],
      "metadata": {
        "colab": {
          "base_uri": "https://localhost:8080/"
        },
        "id": "wb_uBjd1bTZ9",
        "outputId": "6cbbd6ed-bca8-4908-ff84-e4a7eddc22d7"
      },
      "execution_count": 1,
      "outputs": [
        {
          "output_type": "stream",
          "name": "stdout",
          "text": [
            "Enter a string: lalit verma\n",
            "Enter a substring: verma\n",
            "Substring found in the string\n"
          ]
        }
      ]
    },
    {
      "cell_type": "code",
      "source": [
        "#Checking if a number is divisible by both 3 and 5:\n",
        "num = int(input(\"Enter a number: \"))\n",
        "if num % 3 == 0 and num % 5 == 0:\n",
        "    print(\"Number is divisible by both 3 and 5\")\n",
        "else:\n",
        "    print(\"Number is not divisible by both 3 and 5\")"
      ],
      "metadata": {
        "colab": {
          "base_uri": "https://localhost:8080/"
        },
        "id": "v-Sjk-WMbe3r",
        "outputId": "d9087b47-bfdc-4ac8-ac17-e44cb331a3bf"
      },
      "execution_count": 2,
      "outputs": [
        {
          "output_type": "stream",
          "name": "stdout",
          "text": [
            "Enter a number: 6\n",
            "Number is not divisible by both 3 and 5\n"
          ]
        }
      ]
    }
  ]
}