{
  "cells": [
    {
      "cell_type": "markdown",
      "metadata": {
        "id": "view-in-github",
        "colab_type": "text"
      },
      "source": [
        "<a href=\"https://colab.research.google.com/github/lalit1511/Maths-Stats-using-python/blob/main/Linear_Combinations_withoutcode.ipynb\" target=\"_parent\"><img src=\"https://colab.research.google.com/assets/colab-badge.svg\" alt=\"Open In Colab\"/></a>"
      ]
    },
    {
      "cell_type": "markdown",
      "source": [
        " # **Linear Combination**"
      ],
      "metadata": {
        "id": "Bu_uvxDt2wEi"
      },
      "id": "Bu_uvxDt2wEi"
    },
    {
      "cell_type": "markdown",
      "source": [
        "### You will work with a simple data set that contains factory production values of electrical machinery parts for a corporation. you will perform the following tasks:\n",
        "- Load and study the data\n",
        "- Extract production values as vectors from the data\n",
        "- Extract number of working days as scalars from the data\n",
        "- Use scalar multiplication to scale production values by number of working days\n",
        "- Code a linear combination of vectors using addition and scalar multiplication\n"
      ],
      "metadata": {
        "id": "F8hFDp3I28Di"
      },
      "id": "F8hFDp3I28Di"
    },
    {
      "cell_type": "markdown",
      "source": [
        "## Task 1 - Load and study the data"
      ],
      "metadata": {
        "id": "TRUBdSHo3McL"
      },
      "id": "TRUBdSHo3McL"
    },
    {
      "cell_type": "code",
      "execution_count": null,
      "id": "9f5c393c",
      "metadata": {
        "id": "9f5c393c"
      },
      "outputs": [],
      "source": [
        "# Load \"numpy\" and \"pandas\" for manipulating numbers, vectors and data frames\n",
        "import numpy as np\n",
        "import pandas as pd\n"
      ]
    },
    {
      "cell_type": "code",
      "execution_count": null,
      "id": "5608a781",
      "metadata": {
        "id": "5608a781"
      },
      "outputs": [],
      "source": [
        "# Read in the \"Factory_Production.csv\" file as a Pandas Data Frame\n",
        "# Note: Make sure the code and the data are in the same folder or specify the appropriate path for the data\n",
        "df = pd.read_csv('/content/Factory_Production.csv',index_col=0)"
      ]
    },
    {
      "cell_type": "code",
      "execution_count": null,
      "id": "9385b905",
      "metadata": {
        "id": "9385b905",
        "outputId": "3855cd93-dbbd-4aa7-c220-7176377ca6ce",
        "colab": {
          "base_uri": "https://localhost:8080/",
          "height": 237
        }
      },
      "outputs": [
        {
          "output_type": "execute_result",
          "data": {
            "text/plain": [
              "         Generators  Motors  Cables  Days\n",
              "Factory                                  \n",
              "A                 8      17     232   352\n",
              "B                 6      20     203   348\n",
              "C                10      16     187   337\n",
              "D                 7      24     218   357\n",
              "E                13      13     256   362"
            ],
            "text/html": [
              "\n",
              "  <div id=\"df-3d6647f1-b712-4bb9-9bf1-1d5eed3b468c\">\n",
              "    <div class=\"colab-df-container\">\n",
              "      <div>\n",
              "<style scoped>\n",
              "    .dataframe tbody tr th:only-of-type {\n",
              "        vertical-align: middle;\n",
              "    }\n",
              "\n",
              "    .dataframe tbody tr th {\n",
              "        vertical-align: top;\n",
              "    }\n",
              "\n",
              "    .dataframe thead th {\n",
              "        text-align: right;\n",
              "    }\n",
              "</style>\n",
              "<table border=\"1\" class=\"dataframe\">\n",
              "  <thead>\n",
              "    <tr style=\"text-align: right;\">\n",
              "      <th></th>\n",
              "      <th>Generators</th>\n",
              "      <th>Motors</th>\n",
              "      <th>Cables</th>\n",
              "      <th>Days</th>\n",
              "    </tr>\n",
              "    <tr>\n",
              "      <th>Factory</th>\n",
              "      <th></th>\n",
              "      <th></th>\n",
              "      <th></th>\n",
              "      <th></th>\n",
              "    </tr>\n",
              "  </thead>\n",
              "  <tbody>\n",
              "    <tr>\n",
              "      <th>A</th>\n",
              "      <td>8</td>\n",
              "      <td>17</td>\n",
              "      <td>232</td>\n",
              "      <td>352</td>\n",
              "    </tr>\n",
              "    <tr>\n",
              "      <th>B</th>\n",
              "      <td>6</td>\n",
              "      <td>20</td>\n",
              "      <td>203</td>\n",
              "      <td>348</td>\n",
              "    </tr>\n",
              "    <tr>\n",
              "      <th>C</th>\n",
              "      <td>10</td>\n",
              "      <td>16</td>\n",
              "      <td>187</td>\n",
              "      <td>337</td>\n",
              "    </tr>\n",
              "    <tr>\n",
              "      <th>D</th>\n",
              "      <td>7</td>\n",
              "      <td>24</td>\n",
              "      <td>218</td>\n",
              "      <td>357</td>\n",
              "    </tr>\n",
              "    <tr>\n",
              "      <th>E</th>\n",
              "      <td>13</td>\n",
              "      <td>13</td>\n",
              "      <td>256</td>\n",
              "      <td>362</td>\n",
              "    </tr>\n",
              "  </tbody>\n",
              "</table>\n",
              "</div>\n",
              "      <button class=\"colab-df-convert\" onclick=\"convertToInteractive('df-3d6647f1-b712-4bb9-9bf1-1d5eed3b468c')\"\n",
              "              title=\"Convert this dataframe to an interactive table.\"\n",
              "              style=\"display:none;\">\n",
              "        \n",
              "  <svg xmlns=\"http://www.w3.org/2000/svg\" height=\"24px\"viewBox=\"0 0 24 24\"\n",
              "       width=\"24px\">\n",
              "    <path d=\"M0 0h24v24H0V0z\" fill=\"none\"/>\n",
              "    <path d=\"M18.56 5.44l.94 2.06.94-2.06 2.06-.94-2.06-.94-.94-2.06-.94 2.06-2.06.94zm-11 1L8.5 8.5l.94-2.06 2.06-.94-2.06-.94L8.5 2.5l-.94 2.06-2.06.94zm10 10l.94 2.06.94-2.06 2.06-.94-2.06-.94-.94-2.06-.94 2.06-2.06.94z\"/><path d=\"M17.41 7.96l-1.37-1.37c-.4-.4-.92-.59-1.43-.59-.52 0-1.04.2-1.43.59L10.3 9.45l-7.72 7.72c-.78.78-.78 2.05 0 2.83L4 21.41c.39.39.9.59 1.41.59.51 0 1.02-.2 1.41-.59l7.78-7.78 2.81-2.81c.8-.78.8-2.07 0-2.86zM5.41 20L4 18.59l7.72-7.72 1.47 1.35L5.41 20z\"/>\n",
              "  </svg>\n",
              "      </button>\n",
              "      \n",
              "  <style>\n",
              "    .colab-df-container {\n",
              "      display:flex;\n",
              "      flex-wrap:wrap;\n",
              "      gap: 12px;\n",
              "    }\n",
              "\n",
              "    .colab-df-convert {\n",
              "      background-color: #E8F0FE;\n",
              "      border: none;\n",
              "      border-radius: 50%;\n",
              "      cursor: pointer;\n",
              "      display: none;\n",
              "      fill: #1967D2;\n",
              "      height: 32px;\n",
              "      padding: 0 0 0 0;\n",
              "      width: 32px;\n",
              "    }\n",
              "\n",
              "    .colab-df-convert:hover {\n",
              "      background-color: #E2EBFA;\n",
              "      box-shadow: 0px 1px 2px rgba(60, 64, 67, 0.3), 0px 1px 3px 1px rgba(60, 64, 67, 0.15);\n",
              "      fill: #174EA6;\n",
              "    }\n",
              "\n",
              "    [theme=dark] .colab-df-convert {\n",
              "      background-color: #3B4455;\n",
              "      fill: #D2E3FC;\n",
              "    }\n",
              "\n",
              "    [theme=dark] .colab-df-convert:hover {\n",
              "      background-color: #434B5C;\n",
              "      box-shadow: 0px 1px 3px 1px rgba(0, 0, 0, 0.15);\n",
              "      filter: drop-shadow(0px 1px 2px rgba(0, 0, 0, 0.3));\n",
              "      fill: #FFFFFF;\n",
              "    }\n",
              "  </style>\n",
              "\n",
              "      <script>\n",
              "        const buttonEl =\n",
              "          document.querySelector('#df-3d6647f1-b712-4bb9-9bf1-1d5eed3b468c button.colab-df-convert');\n",
              "        buttonEl.style.display =\n",
              "          google.colab.kernel.accessAllowed ? 'block' : 'none';\n",
              "\n",
              "        async function convertToInteractive(key) {\n",
              "          const element = document.querySelector('#df-3d6647f1-b712-4bb9-9bf1-1d5eed3b468c');\n",
              "          const dataTable =\n",
              "            await google.colab.kernel.invokeFunction('convertToInteractive',\n",
              "                                                     [key], {});\n",
              "          if (!dataTable) return;\n",
              "\n",
              "          const docLinkHtml = 'Like what you see? Visit the ' +\n",
              "            '<a target=\"_blank\" href=https://colab.research.google.com/notebooks/data_table.ipynb>data table notebook</a>'\n",
              "            + ' to learn more about interactive tables.';\n",
              "          element.innerHTML = '';\n",
              "          dataTable['output_type'] = 'display_data';\n",
              "          await google.colab.output.renderOutput(dataTable, element);\n",
              "          const docLink = document.createElement('div');\n",
              "          docLink.innerHTML = docLinkHtml;\n",
              "          element.appendChild(docLink);\n",
              "        }\n",
              "      </script>\n",
              "    </div>\n",
              "  </div>\n",
              "  "
            ]
          },
          "metadata": {},
          "execution_count": 4
        }
      ],
      "source": [
        "# Take a brief look at the data frame using \".head()\"\n",
        "df.head()\n"
      ]
    },
    {
      "cell_type": "markdown",
      "source": [
        "##### Feature Description:\n",
        "This data set contains the production values of power units such as generators, motors and cables of different factories belonging to the same corporation.\n",
        "- Factory = unique label assigned to a factory unit for the purpose of identification\n",
        "- Generators = number of generators produced by the factory in a day\n",
        "- Motors = number of motors produced by the factory in a day\n",
        "- Cables = number of cables produced by the factory in a day\n",
        "- Days = number of working days of the factory in a year"
      ],
      "metadata": {
        "id": "7KuCPKKv39Gu"
      },
      "id": "7KuCPKKv39Gu"
    },
    {
      "cell_type": "markdown",
      "source": [
        "##### study its features such as:\n",
        "- The number of factory units\n",
        "- The number of machine parts\n",
        "- The ranges of production values"
      ],
      "metadata": {
        "id": "6pKiWZzx3Uph"
      },
      "id": "6pKiWZzx3Uph"
    },
    {
      "cell_type": "code",
      "execution_count": null,
      "id": "5b5bb00f",
      "metadata": {
        "id": "5b5bb00f",
        "outputId": "c96ad64b-d0a6-4dcb-f63b-e64ddc532efb",
        "colab": {
          "base_uri": "https://localhost:8080/"
        }
      },
      "outputs": [
        {
          "output_type": "execute_result",
          "data": {
            "text/plain": [
              "(10, 4)"
            ]
          },
          "metadata": {},
          "execution_count": 9
        }
      ],
      "source": [
        "# Check the dimensions of the data frame using \".shape\"\n",
        "df.shape\n"
      ]
    },
    {
      "cell_type": "code",
      "execution_count": null,
      "id": "a6b34a1e",
      "metadata": {
        "id": "a6b34a1e",
        "outputId": "36621b96-a689-45e1-dfd6-736e4736b6f4",
        "colab": {
          "base_uri": "https://localhost:8080/"
        }
      },
      "outputs": [
        {
          "output_type": "stream",
          "name": "stdout",
          "text": [
            "<class 'pandas.core.frame.DataFrame'>\n",
            "Index: 10 entries, A to J\n",
            "Data columns (total 4 columns):\n",
            " #   Column      Non-Null Count  Dtype\n",
            "---  ------      --------------  -----\n",
            " 0   Generators  10 non-null     int64\n",
            " 1   Motors      10 non-null     int64\n",
            " 2   Cables      10 non-null     int64\n",
            " 3   Days        10 non-null     int64\n",
            "dtypes: int64(4)\n",
            "memory usage: 700.0+ bytes\n"
          ]
        }
      ],
      "source": [
        "# View basic information about the data frame using \".info()\"\n",
        "df.info()\n"
      ]
    },
    {
      "cell_type": "code",
      "execution_count": null,
      "id": "f0bbb65b",
      "metadata": {
        "id": "f0bbb65b",
        "outputId": "e8499e3c-194e-4ed6-d9b3-fd734e33786e",
        "colab": {
          "base_uri": "https://localhost:8080/",
          "height": 175
        }
      },
      "outputs": [
        {
          "output_type": "execute_result",
          "data": {
            "text/plain": [
              "            count   mean        std    min    25%    50%     75%    max\n",
              "Generators   10.0    8.8   2.658320    5.0    7.0    8.5   10.75   13.0\n",
              "Motors       10.0   16.4   4.926121    8.0   13.5   16.5   19.50   24.0\n",
              "Cables       10.0  205.1  29.015130  156.0  187.0  206.5  221.75  256.0\n",
              "Days         10.0  344.6  15.889899  316.0  337.5  347.0  355.75  365.0"
            ],
            "text/html": [
              "\n",
              "  <div id=\"df-fdd9bbeb-dff4-4e88-9f15-42b23260d852\">\n",
              "    <div class=\"colab-df-container\">\n",
              "      <div>\n",
              "<style scoped>\n",
              "    .dataframe tbody tr th:only-of-type {\n",
              "        vertical-align: middle;\n",
              "    }\n",
              "\n",
              "    .dataframe tbody tr th {\n",
              "        vertical-align: top;\n",
              "    }\n",
              "\n",
              "    .dataframe thead th {\n",
              "        text-align: right;\n",
              "    }\n",
              "</style>\n",
              "<table border=\"1\" class=\"dataframe\">\n",
              "  <thead>\n",
              "    <tr style=\"text-align: right;\">\n",
              "      <th></th>\n",
              "      <th>count</th>\n",
              "      <th>mean</th>\n",
              "      <th>std</th>\n",
              "      <th>min</th>\n",
              "      <th>25%</th>\n",
              "      <th>50%</th>\n",
              "      <th>75%</th>\n",
              "      <th>max</th>\n",
              "    </tr>\n",
              "  </thead>\n",
              "  <tbody>\n",
              "    <tr>\n",
              "      <th>Generators</th>\n",
              "      <td>10.0</td>\n",
              "      <td>8.8</td>\n",
              "      <td>2.658320</td>\n",
              "      <td>5.0</td>\n",
              "      <td>7.0</td>\n",
              "      <td>8.5</td>\n",
              "      <td>10.75</td>\n",
              "      <td>13.0</td>\n",
              "    </tr>\n",
              "    <tr>\n",
              "      <th>Motors</th>\n",
              "      <td>10.0</td>\n",
              "      <td>16.4</td>\n",
              "      <td>4.926121</td>\n",
              "      <td>8.0</td>\n",
              "      <td>13.5</td>\n",
              "      <td>16.5</td>\n",
              "      <td>19.50</td>\n",
              "      <td>24.0</td>\n",
              "    </tr>\n",
              "    <tr>\n",
              "      <th>Cables</th>\n",
              "      <td>10.0</td>\n",
              "      <td>205.1</td>\n",
              "      <td>29.015130</td>\n",
              "      <td>156.0</td>\n",
              "      <td>187.0</td>\n",
              "      <td>206.5</td>\n",
              "      <td>221.75</td>\n",
              "      <td>256.0</td>\n",
              "    </tr>\n",
              "    <tr>\n",
              "      <th>Days</th>\n",
              "      <td>10.0</td>\n",
              "      <td>344.6</td>\n",
              "      <td>15.889899</td>\n",
              "      <td>316.0</td>\n",
              "      <td>337.5</td>\n",
              "      <td>347.0</td>\n",
              "      <td>355.75</td>\n",
              "      <td>365.0</td>\n",
              "    </tr>\n",
              "  </tbody>\n",
              "</table>\n",
              "</div>\n",
              "      <button class=\"colab-df-convert\" onclick=\"convertToInteractive('df-fdd9bbeb-dff4-4e88-9f15-42b23260d852')\"\n",
              "              title=\"Convert this dataframe to an interactive table.\"\n",
              "              style=\"display:none;\">\n",
              "        \n",
              "  <svg xmlns=\"http://www.w3.org/2000/svg\" height=\"24px\"viewBox=\"0 0 24 24\"\n",
              "       width=\"24px\">\n",
              "    <path d=\"M0 0h24v24H0V0z\" fill=\"none\"/>\n",
              "    <path d=\"M18.56 5.44l.94 2.06.94-2.06 2.06-.94-2.06-.94-.94-2.06-.94 2.06-2.06.94zm-11 1L8.5 8.5l.94-2.06 2.06-.94-2.06-.94L8.5 2.5l-.94 2.06-2.06.94zm10 10l.94 2.06.94-2.06 2.06-.94-2.06-.94-.94-2.06-.94 2.06-2.06.94z\"/><path d=\"M17.41 7.96l-1.37-1.37c-.4-.4-.92-.59-1.43-.59-.52 0-1.04.2-1.43.59L10.3 9.45l-7.72 7.72c-.78.78-.78 2.05 0 2.83L4 21.41c.39.39.9.59 1.41.59.51 0 1.02-.2 1.41-.59l7.78-7.78 2.81-2.81c.8-.78.8-2.07 0-2.86zM5.41 20L4 18.59l7.72-7.72 1.47 1.35L5.41 20z\"/>\n",
              "  </svg>\n",
              "      </button>\n",
              "      \n",
              "  <style>\n",
              "    .colab-df-container {\n",
              "      display:flex;\n",
              "      flex-wrap:wrap;\n",
              "      gap: 12px;\n",
              "    }\n",
              "\n",
              "    .colab-df-convert {\n",
              "      background-color: #E8F0FE;\n",
              "      border: none;\n",
              "      border-radius: 50%;\n",
              "      cursor: pointer;\n",
              "      display: none;\n",
              "      fill: #1967D2;\n",
              "      height: 32px;\n",
              "      padding: 0 0 0 0;\n",
              "      width: 32px;\n",
              "    }\n",
              "\n",
              "    .colab-df-convert:hover {\n",
              "      background-color: #E2EBFA;\n",
              "      box-shadow: 0px 1px 2px rgba(60, 64, 67, 0.3), 0px 1px 3px 1px rgba(60, 64, 67, 0.15);\n",
              "      fill: #174EA6;\n",
              "    }\n",
              "\n",
              "    [theme=dark] .colab-df-convert {\n",
              "      background-color: #3B4455;\n",
              "      fill: #D2E3FC;\n",
              "    }\n",
              "\n",
              "    [theme=dark] .colab-df-convert:hover {\n",
              "      background-color: #434B5C;\n",
              "      box-shadow: 0px 1px 3px 1px rgba(0, 0, 0, 0.15);\n",
              "      filter: drop-shadow(0px 1px 2px rgba(0, 0, 0, 0.3));\n",
              "      fill: #FFFFFF;\n",
              "    }\n",
              "  </style>\n",
              "\n",
              "      <script>\n",
              "        const buttonEl =\n",
              "          document.querySelector('#df-fdd9bbeb-dff4-4e88-9f15-42b23260d852 button.colab-df-convert');\n",
              "        buttonEl.style.display =\n",
              "          google.colab.kernel.accessAllowed ? 'block' : 'none';\n",
              "\n",
              "        async function convertToInteractive(key) {\n",
              "          const element = document.querySelector('#df-fdd9bbeb-dff4-4e88-9f15-42b23260d852');\n",
              "          const dataTable =\n",
              "            await google.colab.kernel.invokeFunction('convertToInteractive',\n",
              "                                                     [key], {});\n",
              "          if (!dataTable) return;\n",
              "\n",
              "          const docLinkHtml = 'Like what you see? Visit the ' +\n",
              "            '<a target=\"_blank\" href=https://colab.research.google.com/notebooks/data_table.ipynb>data table notebook</a>'\n",
              "            + ' to learn more about interactive tables.';\n",
              "          element.innerHTML = '';\n",
              "          dataTable['output_type'] = 'display_data';\n",
              "          await google.colab.output.renderOutput(dataTable, element);\n",
              "          const docLink = document.createElement('div');\n",
              "          docLink.innerHTML = docLinkHtml;\n",
              "          element.appendChild(docLink);\n",
              "        }\n",
              "      </script>\n",
              "    </div>\n",
              "  </div>\n",
              "  "
            ]
          },
          "metadata": {},
          "execution_count": 14
        }
      ],
      "source": [
        "# View a statistical summary of the data frame using \".describe()\"\n",
        "# Note: Use \".transpose()\" to make the summary easier to read\n",
        "df.describe().transpose()\n"
      ]
    },
    {
      "cell_type": "markdown",
      "source": [
        "#### Observations\n",
        "\n",
        "- There are 10 rows and 4 columns\n",
        "- The first 3 columns contain the production values of generators, motors and cables\n",
        "- The fourth column contains the number of working days of the factories"
      ],
      "metadata": {
        "id": "MgrzlNkT4MdQ"
      },
      "id": "MgrzlNkT4MdQ"
    },
    {
      "cell_type": "markdown",
      "source": [
        "## Task 2 - Extract production values as vectors from the data"
      ],
      "metadata": {
        "id": "826oPMfQ4WAm"
      },
      "id": "826oPMfQ4WAm"
    },
    {
      "cell_type": "markdown",
      "source": [
        "\n",
        "- The factory production values for each factory are contained in the \"Generators\", \"Motors\" and \"Cables\" features.\n",
        "- Separating these features from the \"Days\" feature could be useful."
      ],
      "metadata": {
        "id": "KH0Odhci4goZ"
      },
      "id": "KH0Odhci4goZ"
    },
    {
      "cell_type": "code",
      "execution_count": null,
      "id": "465e4d19",
      "metadata": {
        "id": "465e4d19"
      },
      "outputs": [],
      "source": [
        "# Drop the \"Days\" column from the data frame using \".drop()\" and save the data in a new data frame called \"df_prod\"\n",
        "df_prod =df.drop('Days',axis=1)\n"
      ]
    },
    {
      "cell_type": "code",
      "execution_count": null,
      "id": "c13b04ae",
      "metadata": {
        "id": "c13b04ae",
        "outputId": "2480c631-8e07-48df-af5c-5a4d2f84b090",
        "colab": {
          "base_uri": "https://localhost:8080/",
          "height": 237
        }
      },
      "outputs": [
        {
          "output_type": "execute_result",
          "data": {
            "text/plain": [
              "         Generators  Motors  Cables\n",
              "Factory                            \n",
              "A                 8      17     232\n",
              "B                 6      20     203\n",
              "C                10      16     187\n",
              "D                 7      24     218\n",
              "E                13      13     256"
            ],
            "text/html": [
              "\n",
              "  <div id=\"df-c2c644c9-5562-4b47-b78e-a8ba8a13cdd6\">\n",
              "    <div class=\"colab-df-container\">\n",
              "      <div>\n",
              "<style scoped>\n",
              "    .dataframe tbody tr th:only-of-type {\n",
              "        vertical-align: middle;\n",
              "    }\n",
              "\n",
              "    .dataframe tbody tr th {\n",
              "        vertical-align: top;\n",
              "    }\n",
              "\n",
              "    .dataframe thead th {\n",
              "        text-align: right;\n",
              "    }\n",
              "</style>\n",
              "<table border=\"1\" class=\"dataframe\">\n",
              "  <thead>\n",
              "    <tr style=\"text-align: right;\">\n",
              "      <th></th>\n",
              "      <th>Generators</th>\n",
              "      <th>Motors</th>\n",
              "      <th>Cables</th>\n",
              "    </tr>\n",
              "    <tr>\n",
              "      <th>Factory</th>\n",
              "      <th></th>\n",
              "      <th></th>\n",
              "      <th></th>\n",
              "    </tr>\n",
              "  </thead>\n",
              "  <tbody>\n",
              "    <tr>\n",
              "      <th>A</th>\n",
              "      <td>8</td>\n",
              "      <td>17</td>\n",
              "      <td>232</td>\n",
              "    </tr>\n",
              "    <tr>\n",
              "      <th>B</th>\n",
              "      <td>6</td>\n",
              "      <td>20</td>\n",
              "      <td>203</td>\n",
              "    </tr>\n",
              "    <tr>\n",
              "      <th>C</th>\n",
              "      <td>10</td>\n",
              "      <td>16</td>\n",
              "      <td>187</td>\n",
              "    </tr>\n",
              "    <tr>\n",
              "      <th>D</th>\n",
              "      <td>7</td>\n",
              "      <td>24</td>\n",
              "      <td>218</td>\n",
              "    </tr>\n",
              "    <tr>\n",
              "      <th>E</th>\n",
              "      <td>13</td>\n",
              "      <td>13</td>\n",
              "      <td>256</td>\n",
              "    </tr>\n",
              "  </tbody>\n",
              "</table>\n",
              "</div>\n",
              "      <button class=\"colab-df-convert\" onclick=\"convertToInteractive('df-c2c644c9-5562-4b47-b78e-a8ba8a13cdd6')\"\n",
              "              title=\"Convert this dataframe to an interactive table.\"\n",
              "              style=\"display:none;\">\n",
              "        \n",
              "  <svg xmlns=\"http://www.w3.org/2000/svg\" height=\"24px\"viewBox=\"0 0 24 24\"\n",
              "       width=\"24px\">\n",
              "    <path d=\"M0 0h24v24H0V0z\" fill=\"none\"/>\n",
              "    <path d=\"M18.56 5.44l.94 2.06.94-2.06 2.06-.94-2.06-.94-.94-2.06-.94 2.06-2.06.94zm-11 1L8.5 8.5l.94-2.06 2.06-.94-2.06-.94L8.5 2.5l-.94 2.06-2.06.94zm10 10l.94 2.06.94-2.06 2.06-.94-2.06-.94-.94-2.06-.94 2.06-2.06.94z\"/><path d=\"M17.41 7.96l-1.37-1.37c-.4-.4-.92-.59-1.43-.59-.52 0-1.04.2-1.43.59L10.3 9.45l-7.72 7.72c-.78.78-.78 2.05 0 2.83L4 21.41c.39.39.9.59 1.41.59.51 0 1.02-.2 1.41-.59l7.78-7.78 2.81-2.81c.8-.78.8-2.07 0-2.86zM5.41 20L4 18.59l7.72-7.72 1.47 1.35L5.41 20z\"/>\n",
              "  </svg>\n",
              "      </button>\n",
              "      \n",
              "  <style>\n",
              "    .colab-df-container {\n",
              "      display:flex;\n",
              "      flex-wrap:wrap;\n",
              "      gap: 12px;\n",
              "    }\n",
              "\n",
              "    .colab-df-convert {\n",
              "      background-color: #E8F0FE;\n",
              "      border: none;\n",
              "      border-radius: 50%;\n",
              "      cursor: pointer;\n",
              "      display: none;\n",
              "      fill: #1967D2;\n",
              "      height: 32px;\n",
              "      padding: 0 0 0 0;\n",
              "      width: 32px;\n",
              "    }\n",
              "\n",
              "    .colab-df-convert:hover {\n",
              "      background-color: #E2EBFA;\n",
              "      box-shadow: 0px 1px 2px rgba(60, 64, 67, 0.3), 0px 1px 3px 1px rgba(60, 64, 67, 0.15);\n",
              "      fill: #174EA6;\n",
              "    }\n",
              "\n",
              "    [theme=dark] .colab-df-convert {\n",
              "      background-color: #3B4455;\n",
              "      fill: #D2E3FC;\n",
              "    }\n",
              "\n",
              "    [theme=dark] .colab-df-convert:hover {\n",
              "      background-color: #434B5C;\n",
              "      box-shadow: 0px 1px 3px 1px rgba(0, 0, 0, 0.15);\n",
              "      filter: drop-shadow(0px 1px 2px rgba(0, 0, 0, 0.3));\n",
              "      fill: #FFFFFF;\n",
              "    }\n",
              "  </style>\n",
              "\n",
              "      <script>\n",
              "        const buttonEl =\n",
              "          document.querySelector('#df-c2c644c9-5562-4b47-b78e-a8ba8a13cdd6 button.colab-df-convert');\n",
              "        buttonEl.style.display =\n",
              "          google.colab.kernel.accessAllowed ? 'block' : 'none';\n",
              "\n",
              "        async function convertToInteractive(key) {\n",
              "          const element = document.querySelector('#df-c2c644c9-5562-4b47-b78e-a8ba8a13cdd6');\n",
              "          const dataTable =\n",
              "            await google.colab.kernel.invokeFunction('convertToInteractive',\n",
              "                                                     [key], {});\n",
              "          if (!dataTable) return;\n",
              "\n",
              "          const docLinkHtml = 'Like what you see? Visit the ' +\n",
              "            '<a target=\"_blank\" href=https://colab.research.google.com/notebooks/data_table.ipynb>data table notebook</a>'\n",
              "            + ' to learn more about interactive tables.';\n",
              "          element.innerHTML = '';\n",
              "          dataTable['output_type'] = 'display_data';\n",
              "          await google.colab.output.renderOutput(dataTable, element);\n",
              "          const docLink = document.createElement('div');\n",
              "          docLink.innerHTML = docLinkHtml;\n",
              "          element.appendChild(docLink);\n",
              "        }\n",
              "      </script>\n",
              "    </div>\n",
              "  </div>\n",
              "  "
            ]
          },
          "metadata": {},
          "execution_count": 16
        }
      ],
      "source": [
        "# Take a brief look at the data frame \"df_prod\" using \".head()\"\n",
        "df_prod.head()\n"
      ]
    },
    {
      "cell_type": "code",
      "execution_count": null,
      "id": "6866485c",
      "metadata": {
        "id": "6866485c",
        "outputId": "29987727-bf68-48d7-da4b-2a38dd929b57",
        "colab": {
          "base_uri": "https://localhost:8080/"
        }
      },
      "outputs": [
        {
          "output_type": "execute_result",
          "data": {
            "text/plain": [
              "Generators      7\n",
              "Motors         24\n",
              "Cables        218\n",
              "Days          357\n",
              "Name: D, dtype: int64"
            ]
          },
          "metadata": {},
          "execution_count": 17
        }
      ],
      "source": [
        "# Access the vector of production values for factory \"D\" using \".loc[]\" from the data frame \"df_prod\"\n",
        "df.loc['D']\n"
      ]
    },
    {
      "cell_type": "markdown",
      "source": [
        "#### Observations\n",
        "\n",
        "- The vector of production values for any factory is 3-long\n",
        "- These vectors contain the production values of generators, motors and cables per day"
      ],
      "metadata": {
        "id": "3kJcnTr04mro"
      },
      "id": "3kJcnTr04mro"
    },
    {
      "cell_type": "markdown",
      "source": [
        "## Task 3 - Extract number of working days as scalars from the data"
      ],
      "metadata": {
        "id": "NCSEIHXV4tdY"
      },
      "id": "NCSEIHXV4tdY"
    },
    {
      "cell_type": "markdown",
      "source": [
        "\n",
        "\n",
        "- The number of working days for each factory is stored in the \"Days\" column of the data frame \"df\".\n",
        "- These will be the scalars that we will use to multiply with the production value vectors."
      ],
      "metadata": {
        "id": "cLXZheab41yi"
      },
      "id": "cLXZheab41yi"
    },
    {
      "cell_type": "code",
      "execution_count": null,
      "id": "94e79388",
      "metadata": {
        "id": "94e79388",
        "outputId": "363d9f38-8442-48e8-ee0e-105d95575c97",
        "colab": {
          "base_uri": "https://localhost:8080/"
        }
      },
      "outputs": [
        {
          "output_type": "execute_result",
          "data": {
            "text/plain": [
              "Factory\n",
              "A    352\n",
              "B    348\n",
              "C    337\n",
              "D    357\n",
              "E    362\n",
              "F    365\n",
              "G    339\n",
              "H    324\n",
              "I    316\n",
              "J    346\n",
              "Name: Days, dtype: int64"
            ]
          },
          "metadata": {},
          "execution_count": 19
        }
      ],
      "source": [
        "# Access the \"Days\" column from the data frame \"df\"\n",
        "df['Days']\n"
      ]
    },
    {
      "cell_type": "code",
      "execution_count": null,
      "id": "bdb607c8",
      "metadata": {
        "id": "bdb607c8",
        "outputId": "f7e4f50d-14bc-40fe-af45-fb1d4989aaf9",
        "colab": {
          "base_uri": "https://localhost:8080/"
        }
      },
      "outputs": [
        {
          "output_type": "execute_result",
          "data": {
            "text/plain": [
              "339"
            ]
          },
          "metadata": {},
          "execution_count": 21
        }
      ],
      "source": [
        "# Access the number of working days of factory \"G\" from the Pandas Series obtained by accessing the \"Days\" column\n",
        "# Note: You may use \".loc[]\" to access these values as well\n",
        "\n",
        "df.loc['G']['Days']"
      ]
    },
    {
      "cell_type": "markdown",
      "source": [
        "#### Observations\n",
        "\n",
        "- The \"Days\" column contains the number of working days in a year of each factory.\n",
        "- These will be the scalars that we will use to multiply with the production value vectors."
      ],
      "metadata": {
        "id": "Rv3jHk8T5D_U"
      },
      "id": "Rv3jHk8T5D_U"
    },
    {
      "cell_type": "markdown",
      "source": [
        "## Task 4 - Use scalar multiplication to scale production values by number of working days\n"
      ],
      "metadata": {
        "id": "NMZBew0R5NGd"
      },
      "id": "NMZBew0R5NGd"
    },
    {
      "cell_type": "markdown",
      "source": [
        "- The production values for each factory are available in the data frame \"df_prod\".\n",
        "- The number of working days in a year for each factory can be extracted from the data frame \"df\".\n",
        "- The product of the vector of production values and the number of working days is a scaled version of the original vector."
      ],
      "metadata": {
        "id": "ho7osiBa5RYi"
      },
      "id": "ho7osiBa5RYi"
    },
    {
      "cell_type": "markdown",
      "source": [
        "![](https://miro.medium.com/max/1400/1*gf3HdrkDBi6Dch_XxVuYvA.png)"
      ],
      "metadata": {
        "id": "G4gZhxUjtkWK"
      },
      "id": "G4gZhxUjtkWK"
    },
    {
      "cell_type": "markdown",
      "source": [
        "## **`Watch Video 5 : Matrix Multiplication`**"
      ],
      "metadata": {
        "id": "ItqHD-pMZQg-"
      },
      "id": "ItqHD-pMZQg-"
    },
    {
      "cell_type": "code",
      "execution_count": null,
      "id": "9086c21f",
      "metadata": {
        "id": "9086c21f",
        "outputId": "4229ea95-4ea0-47e9-979a-ca550aed34c4",
        "colab": {
          "base_uri": "https://localhost:8080/"
        }
      },
      "outputs": [
        {
          "output_type": "execute_result",
          "data": {
            "text/plain": [
              "Generators      6\n",
              "Motors         20\n",
              "Cables        203\n",
              "Name: B, dtype: int64"
            ]
          },
          "metadata": {},
          "execution_count": 22
        }
      ],
      "source": [
        "# Access the vector of production values for factory \"B\" using \".loc[]\" from the data frame \"df_prod\"\n",
        "df_prod.loc['B']\n"
      ]
    },
    {
      "cell_type": "code",
      "execution_count": null,
      "id": "b65ea200",
      "metadata": {
        "id": "b65ea200",
        "outputId": "4bf5b90c-d67c-4ab1-eec8-c0d9d79dfd9c",
        "colab": {
          "base_uri": "https://localhost:8080/"
        }
      },
      "outputs": [
        {
          "output_type": "execute_result",
          "data": {
            "text/plain": [
              "348"
            ]
          },
          "metadata": {},
          "execution_count": 23
        }
      ],
      "source": [
        "# Access the number of working days of factory \"B\"\n",
        "df['Days']['B']\n"
      ]
    },
    {
      "cell_type": "code",
      "execution_count": null,
      "id": "be1df12d",
      "metadata": {
        "id": "be1df12d",
        "outputId": "d4883c32-060f-441d-f523-3e00f5761eca",
        "colab": {
          "base_uri": "https://localhost:8080/"
        }
      },
      "outputs": [
        {
          "output_type": "execute_result",
          "data": {
            "text/plain": [
              "Generators     2088\n",
              "Motors         6960\n",
              "Cables        70644\n",
              "Name: B, dtype: int64"
            ]
          },
          "metadata": {},
          "execution_count": 24
        }
      ],
      "source": [
        "# Multiply the vector of production values for factory \"B\" by its number of working days\n",
        "df_prod.loc['B']*df['Days']['B']\n"
      ]
    },
    {
      "cell_type": "markdown",
      "source": [
        "#### Observations\n",
        "\n",
        "- The product of the vector of production values and the number of working days is a scaled version of the original vector.\n",
        "- The scaled vector of production values for a certain factory shows the number of machine parts produced in a full year."
      ],
      "metadata": {
        "id": "meEu8YQ75i9R"
      },
      "id": "meEu8YQ75i9R"
    },
    {
      "cell_type": "markdown",
      "source": [
        "## Task 5 - Code a linear combination of vectors using addition and scalar multiplication"
      ],
      "metadata": {
        "id": "6BSamWLP5sj2"
      },
      "id": "6BSamWLP5sj2"
    },
    {
      "cell_type": "markdown",
      "source": [
        "- The vector of daily production values for a certain factory can be accessed from the data frame \"df_prod\".\n",
        "- The number of working days in a year for each factory can be extracted from the data frame \"df\".\n",
        "- The total production of a certain factory in a full year can be obtained using scalar multiplication."
      ],
      "metadata": {
        "id": "3N3ZHoGF5xL0"
      },
      "id": "3N3ZHoGF5xL0"
    },
    {
      "cell_type": "markdown",
      "source": [
        "![](https://www2.seas.gwu.edu/~simhaweb/lin/modules/module3/figures/matrixvec2.png)"
      ],
      "metadata": {
        "id": "vZb79yf4uXXS"
      },
      "id": "vZb79yf4uXXS"
    },
    {
      "cell_type": "code",
      "execution_count": null,
      "id": "5f80f2aa",
      "metadata": {
        "id": "5f80f2aa",
        "colab": {
          "base_uri": "https://localhost:8080/",
          "height": 130
        },
        "outputId": "9d7e4c0f-e966-434b-ed7d-e2b23ec3d3ee"
      },
      "outputs": [
        {
          "output_type": "error",
          "ename": "SyntaxError",
          "evalue": "ignored",
          "traceback": [
            "\u001b[0;36m  File \u001b[0;32m\"<ipython-input-27-85d5ec2897e5>\"\u001b[0;36m, line \u001b[0;32m6\u001b[0m\n\u001b[0;31m    total =[0 0 0] # list of zeros of size 3\u001b[0m\n\u001b[0m              ^\u001b[0m\n\u001b[0;31mSyntaxError\u001b[0m\u001b[0;31m:\u001b[0m invalid syntax\n"
          ]
        }
      ],
      "source": [
        "# Calculate the total production values of all the factories using their production value vectors and number of working days\n",
        "# Add these vectors to obtain a single vector that contains the yearly production values of the whole corporation\n",
        "# Note: Create a Numpy List called \"total\" with a size of 3 and fill it with zeroes\n",
        "# Note: You may use the \"total\" list to cumulatively add the yearly production values for each factory\n",
        "\n",
        "total =[0 0 0] # list of zeros of size 3\n",
        "\n",
        "for factory in df.index:\n",
        "    total =total + df['Days'][factory] * df_prod.loc[factory] # cumulatively add the yearly production values for each factory\n",
        "total"
      ]
    },
    {
      "cell_type": "code",
      "execution_count": null,
      "id": "3e07f366",
      "metadata": {
        "id": "3e07f366",
        "outputId": "b8fc7b27-63f8-419e-8e4c-c03d09ef5a4b"
      },
      "outputs": [
        {
          "data": {
            "text/plain": [
              "Generators     30355\n",
              "Motors         56602\n",
              "Cables        708048\n",
              "dtype: int64"
            ]
          },
          "execution_count": 33,
          "metadata": {},
          "output_type": "execute_result"
        }
      ],
      "source": [
        "# Print the \"total\" series\n",
        "\n"
      ]
    },
    {
      "cell_type": "markdown",
      "source": [
        "#### Observations\n",
        "\n",
        "- The corporation produces 30355 generators in a year.\n",
        "- The corporation produces 56602 motors in a year.\n",
        "- The corporation produces 708048 cables in a year."
      ],
      "metadata": {
        "id": "Rw6wxHUR6B69"
      },
      "id": "Rw6wxHUR6B69"
    },
    {
      "cell_type": "markdown",
      "source": [
        "#### Conclusions\n",
        "\n",
        "- From the factory production data, we can calculate the total production of the corporation\n",
        "- We can treat the production values of each factory as vectors\n",
        "- We can use the number of days as scalars to scale each factory's production values.\n",
        "- We can use a linear combination of number of working days and production values to calculate the total production."
      ],
      "metadata": {
        "id": "EtzJYPtL6ZUb"
      },
      "id": "EtzJYPtL6ZUb"
    },
    {
      "cell_type": "markdown",
      "source": [
        "# **FEEDBACK**\n",
        "\n",
        "https://forms.zohopublic.in/cloudyml/form/CloudyMLStatisticsFeedbackForm/formperma/WV946wnf0sDM_tOlH87RxZR9yMceKWGrtuPOyXzzCRc"
      ],
      "metadata": {
        "id": "Q5HDXU6llV10"
      },
      "id": "Q5HDXU6llV10"
    }
  ],
  "metadata": {
    "kernelspec": {
      "display_name": "Python 3",
      "language": "python",
      "name": "python3"
    },
    "language_info": {
      "codemirror_mode": {
        "name": "ipython",
        "version": 3
      },
      "file_extension": ".py",
      "mimetype": "text/x-python",
      "name": "python",
      "nbconvert_exporter": "python",
      "pygments_lexer": "ipython3",
      "version": "3.8.8"
    },
    "colab": {
      "provenance": [],
      "include_colab_link": true
    }
  },
  "nbformat": 4,
  "nbformat_minor": 5
}